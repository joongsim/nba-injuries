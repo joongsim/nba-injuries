{
 "metadata": {
  "language_info": {
   "codemirror_mode": {
    "name": "ipython",
    "version": 3
   },
   "file_extension": ".py",
   "mimetype": "text/x-python",
   "name": "python",
   "nbconvert_exporter": "python",
   "pygments_lexer": "ipython3",
   "version": "3.8.5"
  },
  "orig_nbformat": 2,
  "kernelspec": {
   "name": "pythonjvsc74a57bd0b7877ba5f331602db717e0c4f34e7e89989ffa4a5ebd18f49305f1ae38337637",
   "display_name": "Python 3.8.5  ('venv': venv)"
  },
  "metadata": {
   "interpreter": {
    "hash": "b7877ba5f331602db717e0c4f34e7e89989ffa4a5ebd18f49305f1ae38337637"
   }
  }
 },
 "nbformat": 4,
 "nbformat_minor": 2,
 "cells": [
  {
   "source": [
    "# NBA Injuries\n",
    "***\n",
    "## Goal: \n",
    "Build model to predict the probability of a player missing a game due to injury within a particular time frame\n",
    "\n",
    "## Approach:\n",
    "\n",
    "### Part I: Data Preparation\n",
    "Tasks:\n",
    "\n",
    "1. Scrape injury history data from Pro Sports Transactions using Beautiful Soup\n",
    "2. Scrape player statistics and information from NBA Stats using Beautiful Soup and Selenium and/or nba-api\n",
    "3. Clean datasets\n",
    "4. Merge the two datasets\n",
    "\n",
    "\n",
    "***"
   ],
   "cell_type": "markdown",
   "metadata": {}
  },
  {
   "cell_type": "code",
   "execution_count": 1,
   "metadata": {},
   "outputs": [],
   "source": [
    "import numpy as np\n",
    "import pandas as pd"
   ]
  },
  {
   "cell_type": "code",
   "execution_count": 14,
   "metadata": {},
   "outputs": [
    {
     "output_type": "execute_result",
     "data": {
      "text/plain": [
       "   PLAYER_ID    PLAYER_NAME     TEAM_ID TEAM_ABBREVIATION   AGE PLAYER_HEIGHT  \\\n",
       "0     203932   Aaron Gordon  1610612743               DEN  25.0           6-8   \n",
       "1    1628988  Aaron Holiday  1610612754               IND  24.0           6-0   \n",
       "2    1630174  Aaron Nesmith  1610612738               BOS  21.0           6-5   \n",
       "3    1627846    Abdel Nader  1610612756               PHX  27.0           6-5   \n",
       "4    1629690    Adam Mokoka  1610612741               CHI  22.0           6-4   \n",
       "\n",
       "   PLAYER_HEIGHT_INCHES  PLAYER_WEIGHT     COLLEGE COUNTRY  ...  GP  PTS  REB  \\\n",
       "0                    80            235     Arizona     USA  ...  50  618  284   \n",
       "1                    72            185        UCLA     USA  ...  66  475   89   \n",
       "2                    77            215  Vanderbilt     USA  ...  46  218  127   \n",
       "3                    77            225  Iowa State   Egypt  ...  24  160   62   \n",
       "4                    76            190        None  France  ...  14   15    5   \n",
       "\n",
       "   AST  NET_RATING  OREB_PCT  DREB_PCT  USG_PCT  TS_PCT  AST_PCT  \n",
       "0  161         2.1     0.055     0.150    0.204   0.547    0.165  \n",
       "1  123        -0.2     0.012     0.060    0.189   0.503    0.139  \n",
       "2   23        -0.5     0.041     0.146    0.133   0.573    0.047  \n",
       "3   19         5.0     0.020     0.151    0.183   0.605    0.078  \n",
       "4    5        -7.1     0.017     0.077    0.171   0.386    0.179  \n",
       "\n",
       "[5 rows x 23 columns]"
      ],
      "text/html": "<div>\n<style scoped>\n    .dataframe tbody tr th:only-of-type {\n        vertical-align: middle;\n    }\n\n    .dataframe tbody tr th {\n        vertical-align: top;\n    }\n\n    .dataframe thead th {\n        text-align: right;\n    }\n</style>\n<table border=\"1\" class=\"dataframe\">\n  <thead>\n    <tr style=\"text-align: right;\">\n      <th></th>\n      <th>PLAYER_ID</th>\n      <th>PLAYER_NAME</th>\n      <th>TEAM_ID</th>\n      <th>TEAM_ABBREVIATION</th>\n      <th>AGE</th>\n      <th>PLAYER_HEIGHT</th>\n      <th>PLAYER_HEIGHT_INCHES</th>\n      <th>PLAYER_WEIGHT</th>\n      <th>COLLEGE</th>\n      <th>COUNTRY</th>\n      <th>...</th>\n      <th>GP</th>\n      <th>PTS</th>\n      <th>REB</th>\n      <th>AST</th>\n      <th>NET_RATING</th>\n      <th>OREB_PCT</th>\n      <th>DREB_PCT</th>\n      <th>USG_PCT</th>\n      <th>TS_PCT</th>\n      <th>AST_PCT</th>\n    </tr>\n  </thead>\n  <tbody>\n    <tr>\n      <th>0</th>\n      <td>203932</td>\n      <td>Aaron Gordon</td>\n      <td>1610612743</td>\n      <td>DEN</td>\n      <td>25.0</td>\n      <td>6-8</td>\n      <td>80</td>\n      <td>235</td>\n      <td>Arizona</td>\n      <td>USA</td>\n      <td>...</td>\n      <td>50</td>\n      <td>618</td>\n      <td>284</td>\n      <td>161</td>\n      <td>2.1</td>\n      <td>0.055</td>\n      <td>0.150</td>\n      <td>0.204</td>\n      <td>0.547</td>\n      <td>0.165</td>\n    </tr>\n    <tr>\n      <th>1</th>\n      <td>1628988</td>\n      <td>Aaron Holiday</td>\n      <td>1610612754</td>\n      <td>IND</td>\n      <td>24.0</td>\n      <td>6-0</td>\n      <td>72</td>\n      <td>185</td>\n      <td>UCLA</td>\n      <td>USA</td>\n      <td>...</td>\n      <td>66</td>\n      <td>475</td>\n      <td>89</td>\n      <td>123</td>\n      <td>-0.2</td>\n      <td>0.012</td>\n      <td>0.060</td>\n      <td>0.189</td>\n      <td>0.503</td>\n      <td>0.139</td>\n    </tr>\n    <tr>\n      <th>2</th>\n      <td>1630174</td>\n      <td>Aaron Nesmith</td>\n      <td>1610612738</td>\n      <td>BOS</td>\n      <td>21.0</td>\n      <td>6-5</td>\n      <td>77</td>\n      <td>215</td>\n      <td>Vanderbilt</td>\n      <td>USA</td>\n      <td>...</td>\n      <td>46</td>\n      <td>218</td>\n      <td>127</td>\n      <td>23</td>\n      <td>-0.5</td>\n      <td>0.041</td>\n      <td>0.146</td>\n      <td>0.133</td>\n      <td>0.573</td>\n      <td>0.047</td>\n    </tr>\n    <tr>\n      <th>3</th>\n      <td>1627846</td>\n      <td>Abdel Nader</td>\n      <td>1610612756</td>\n      <td>PHX</td>\n      <td>27.0</td>\n      <td>6-5</td>\n      <td>77</td>\n      <td>225</td>\n      <td>Iowa State</td>\n      <td>Egypt</td>\n      <td>...</td>\n      <td>24</td>\n      <td>160</td>\n      <td>62</td>\n      <td>19</td>\n      <td>5.0</td>\n      <td>0.020</td>\n      <td>0.151</td>\n      <td>0.183</td>\n      <td>0.605</td>\n      <td>0.078</td>\n    </tr>\n    <tr>\n      <th>4</th>\n      <td>1629690</td>\n      <td>Adam Mokoka</td>\n      <td>1610612741</td>\n      <td>CHI</td>\n      <td>22.0</td>\n      <td>6-4</td>\n      <td>76</td>\n      <td>190</td>\n      <td>None</td>\n      <td>France</td>\n      <td>...</td>\n      <td>14</td>\n      <td>15</td>\n      <td>5</td>\n      <td>5</td>\n      <td>-7.1</td>\n      <td>0.017</td>\n      <td>0.077</td>\n      <td>0.171</td>\n      <td>0.386</td>\n      <td>0.179</td>\n    </tr>\n  </tbody>\n</table>\n<p>5 rows × 23 columns</p>\n</div>"
     },
     "metadata": {},
     "execution_count": 14
    }
   ],
   "source": [
    "bio1213 = pd.read_csv('data/bios2012-13.csv')\n",
    "bio1213.head()"
   ]
  },
  {
   "cell_type": "code",
   "execution_count": 22,
   "metadata": {},
   "outputs": [
    {
     "output_type": "execute_result",
     "data": {
      "text/plain": [
       "     PLAYER_ID    PLAYER_NAME     TEAM_ID TEAM_ABBREVIATION   AGE  \\\n",
       "470     201939  Stephen Curry  1610612744               GSW  33.0   \n",
       "\n",
       "    PLAYER_HEIGHT  PLAYER_HEIGHT_INCHES  PLAYER_WEIGHT   COLLEGE COUNTRY  ...  \\\n",
       "470           6-3                    75            185  Davidson     USA  ...   \n",
       "\n",
       "     GP   PTS  REB  AST  NET_RATING  OREB_PCT  DREB_PCT  USG_PCT  TS_PCT  \\\n",
       "470  63  2015  345  363         4.6     0.013     0.135    0.331   0.655   \n",
       "\n",
       "     AST_PCT  \n",
       "470    0.283  \n",
       "\n",
       "[1 rows x 23 columns]"
      ],
      "text/html": "<div>\n<style scoped>\n    .dataframe tbody tr th:only-of-type {\n        vertical-align: middle;\n    }\n\n    .dataframe tbody tr th {\n        vertical-align: top;\n    }\n\n    .dataframe thead th {\n        text-align: right;\n    }\n</style>\n<table border=\"1\" class=\"dataframe\">\n  <thead>\n    <tr style=\"text-align: right;\">\n      <th></th>\n      <th>PLAYER_ID</th>\n      <th>PLAYER_NAME</th>\n      <th>TEAM_ID</th>\n      <th>TEAM_ABBREVIATION</th>\n      <th>AGE</th>\n      <th>PLAYER_HEIGHT</th>\n      <th>PLAYER_HEIGHT_INCHES</th>\n      <th>PLAYER_WEIGHT</th>\n      <th>COLLEGE</th>\n      <th>COUNTRY</th>\n      <th>...</th>\n      <th>GP</th>\n      <th>PTS</th>\n      <th>REB</th>\n      <th>AST</th>\n      <th>NET_RATING</th>\n      <th>OREB_PCT</th>\n      <th>DREB_PCT</th>\n      <th>USG_PCT</th>\n      <th>TS_PCT</th>\n      <th>AST_PCT</th>\n    </tr>\n  </thead>\n  <tbody>\n    <tr>\n      <th>470</th>\n      <td>201939</td>\n      <td>Stephen Curry</td>\n      <td>1610612744</td>\n      <td>GSW</td>\n      <td>33.0</td>\n      <td>6-3</td>\n      <td>75</td>\n      <td>185</td>\n      <td>Davidson</td>\n      <td>USA</td>\n      <td>...</td>\n      <td>63</td>\n      <td>2015</td>\n      <td>345</td>\n      <td>363</td>\n      <td>4.6</td>\n      <td>0.013</td>\n      <td>0.135</td>\n      <td>0.331</td>\n      <td>0.655</td>\n      <td>0.283</td>\n    </tr>\n  </tbody>\n</table>\n<p>1 rows × 23 columns</p>\n</div>"
     },
     "metadata": {},
     "execution_count": 22
    }
   ],
   "source": [
    "steph = bio1213[bio1213['PLAYER_NAME'] == 'Stephen Curry']\n",
    "bio1213[bio1213['PLAYER_NAME'] == 'Stephen Curry']"
   ]
  },
  {
   "cell_type": "code",
   "execution_count": 23,
   "metadata": {},
   "outputs": [],
   "source": [
    "import nba_api.stats.static.players as players\n",
    "from nba_api.stats import endpoints\n"
   ]
  },
  {
   "cell_type": "code",
   "execution_count": 45,
   "metadata": {},
   "outputs": [
    {
     "output_type": "execute_result",
     "data": {
      "text/plain": [
       "  SEASON_ID     TEAM_ID TEAM_ABBREVIATION              TEAM_NAME     GAME_ID  \\\n",
       "0     22020  1610612747               LAL     Los Angeles Lakers  0022000002   \n",
       "1     22020  1610612746               LAC            LA Clippers  0022000002   \n",
       "2     22020  1610612744               GSW  Golden State Warriors  0022000001   \n",
       "3     22020  1610612751               BKN          Brooklyn Nets  0022000001   \n",
       "4     22020  1610612764               WAS     Washington Wizards  0022000013   \n",
       "\n",
       "    GAME_DATE      MATCHUP WL  MIN  FGM  ...  DREB  REB  AST  STL  BLK  TOV  \\\n",
       "0  2020-12-22  LAL vs. LAC  L  240   38  ...    37   45   22    4    2   19   \n",
       "1  2020-12-22    LAC @ LAL  W  240   44  ...    29   40   22   10    3   16   \n",
       "2  2020-12-22    GSW @ BKN  L  240   37  ...    34   47   26    6    6   18   \n",
       "3  2020-12-22  BKN vs. GSW  W  240   42  ...    44   57   24   11    7   20   \n",
       "4  2020-12-23    WAS @ PHI  L  240   39  ...    35   40   28    7    4   20   \n",
       "\n",
       "   PF  PTS  PLUS_MINUS  VIDEO_AVAILABLE  \n",
       "0  20  109          -7                1  \n",
       "1  29  116           7                1  \n",
       "2  24   99         -26                1  \n",
       "3  22  125          26                1  \n",
       "4  26  107          -6                1  \n",
       "\n",
       "[5 rows x 29 columns]"
      ],
      "text/html": "<div>\n<style scoped>\n    .dataframe tbody tr th:only-of-type {\n        vertical-align: middle;\n    }\n\n    .dataframe tbody tr th {\n        vertical-align: top;\n    }\n\n    .dataframe thead th {\n        text-align: right;\n    }\n</style>\n<table border=\"1\" class=\"dataframe\">\n  <thead>\n    <tr style=\"text-align: right;\">\n      <th></th>\n      <th>SEASON_ID</th>\n      <th>TEAM_ID</th>\n      <th>TEAM_ABBREVIATION</th>\n      <th>TEAM_NAME</th>\n      <th>GAME_ID</th>\n      <th>GAME_DATE</th>\n      <th>MATCHUP</th>\n      <th>WL</th>\n      <th>MIN</th>\n      <th>FGM</th>\n      <th>...</th>\n      <th>DREB</th>\n      <th>REB</th>\n      <th>AST</th>\n      <th>STL</th>\n      <th>BLK</th>\n      <th>TOV</th>\n      <th>PF</th>\n      <th>PTS</th>\n      <th>PLUS_MINUS</th>\n      <th>VIDEO_AVAILABLE</th>\n    </tr>\n  </thead>\n  <tbody>\n    <tr>\n      <th>0</th>\n      <td>22020</td>\n      <td>1610612747</td>\n      <td>LAL</td>\n      <td>Los Angeles Lakers</td>\n      <td>0022000002</td>\n      <td>2020-12-22</td>\n      <td>LAL vs. LAC</td>\n      <td>L</td>\n      <td>240</td>\n      <td>38</td>\n      <td>...</td>\n      <td>37</td>\n      <td>45</td>\n      <td>22</td>\n      <td>4</td>\n      <td>2</td>\n      <td>19</td>\n      <td>20</td>\n      <td>109</td>\n      <td>-7</td>\n      <td>1</td>\n    </tr>\n    <tr>\n      <th>1</th>\n      <td>22020</td>\n      <td>1610612746</td>\n      <td>LAC</td>\n      <td>LA Clippers</td>\n      <td>0022000002</td>\n      <td>2020-12-22</td>\n      <td>LAC @ LAL</td>\n      <td>W</td>\n      <td>240</td>\n      <td>44</td>\n      <td>...</td>\n      <td>29</td>\n      <td>40</td>\n      <td>22</td>\n      <td>10</td>\n      <td>3</td>\n      <td>16</td>\n      <td>29</td>\n      <td>116</td>\n      <td>7</td>\n      <td>1</td>\n    </tr>\n    <tr>\n      <th>2</th>\n      <td>22020</td>\n      <td>1610612744</td>\n      <td>GSW</td>\n      <td>Golden State Warriors</td>\n      <td>0022000001</td>\n      <td>2020-12-22</td>\n      <td>GSW @ BKN</td>\n      <td>L</td>\n      <td>240</td>\n      <td>37</td>\n      <td>...</td>\n      <td>34</td>\n      <td>47</td>\n      <td>26</td>\n      <td>6</td>\n      <td>6</td>\n      <td>18</td>\n      <td>24</td>\n      <td>99</td>\n      <td>-26</td>\n      <td>1</td>\n    </tr>\n    <tr>\n      <th>3</th>\n      <td>22020</td>\n      <td>1610612751</td>\n      <td>BKN</td>\n      <td>Brooklyn Nets</td>\n      <td>0022000001</td>\n      <td>2020-12-22</td>\n      <td>BKN vs. GSW</td>\n      <td>W</td>\n      <td>240</td>\n      <td>42</td>\n      <td>...</td>\n      <td>44</td>\n      <td>57</td>\n      <td>24</td>\n      <td>11</td>\n      <td>7</td>\n      <td>20</td>\n      <td>22</td>\n      <td>125</td>\n      <td>26</td>\n      <td>1</td>\n    </tr>\n    <tr>\n      <th>4</th>\n      <td>22020</td>\n      <td>1610612764</td>\n      <td>WAS</td>\n      <td>Washington Wizards</td>\n      <td>0022000013</td>\n      <td>2020-12-23</td>\n      <td>WAS @ PHI</td>\n      <td>L</td>\n      <td>240</td>\n      <td>39</td>\n      <td>...</td>\n      <td>35</td>\n      <td>40</td>\n      <td>28</td>\n      <td>7</td>\n      <td>4</td>\n      <td>20</td>\n      <td>26</td>\n      <td>107</td>\n      <td>-6</td>\n      <td>1</td>\n    </tr>\n  </tbody>\n</table>\n<p>5 rows × 29 columns</p>\n</div>"
     },
     "metadata": {},
     "execution_count": 45
    }
   ],
   "source": [
    "gamelog = endpoints.LeagueGameLog().get_data_frames()[0]\n",
    "gamelog.head()"
   ]
  },
  {
   "cell_type": "code",
   "execution_count": 39,
   "metadata": {},
   "outputs": [],
   "source": [
    "gsw_bkn_id = '0022000001'\n",
    "play_by_play = endpoints.PlayByPlay(game_id='0022000002').get_data_frames()[0]"
   ]
  },
  {
   "cell_type": "code",
   "execution_count": 40,
   "metadata": {},
   "outputs": [
    {
     "output_type": "execute_result",
     "data": {
      "text/plain": [
       "        GAME_ID  EVENTNUM  EVENTMSGTYPE  EVENTMSGACTIONTYPE  PERIOD  \\\n",
       "0    0022000002         2            12                   0       1   \n",
       "1    0022000002         4            10                   0       1   \n",
       "2    0022000002         7             2                  80       1   \n",
       "3    0022000002         8             4                   0       1   \n",
       "4    0022000002         9             1                   6       1   \n",
       "..          ...       ...           ...                 ...     ...   \n",
       "494  0022000002       711             8                   0       4   \n",
       "495  0022000002       716             2                  79       4   \n",
       "496  0022000002       717             4                   0       4   \n",
       "497  0022000002       718             1                   1       4   \n",
       "498  0022000002       720            13                   0       4   \n",
       "\n",
       "    WCTIMESTRING PCTIMESTRING                               HOMEDESCRIPTION  \\\n",
       "0       10:08 PM        12:00                                          None   \n",
       "1       10:08 PM        12:00       Jump Ball Davis vs. Ibaka: Tip to James   \n",
       "2       10:08 PM        11:40            MISS Davis 15' Step Back Jump Shot   \n",
       "3       10:08 PM        11:37                                          None   \n",
       "4       10:09 PM        11:28                                          None   \n",
       "..           ...          ...                                           ...   \n",
       "494     12:34 AM         0:56                                          None   \n",
       "495     12:35 AM         0:35                                          None   \n",
       "496     12:35 AM         0:35           Horton-Tucker REBOUND (Off:0 Def:1)   \n",
       "497     12:36 AM         0:19  Kuzma 17' Jump Shot (15 PTS) (Harrell 3 AST)   \n",
       "498     12:36 AM         0:00                                          None   \n",
       "\n",
       "                     NEUTRALDESCRIPTION                 VISITORDESCRIPTION  \\\n",
       "0    Start of 1st Period (10:08 PM EST)                               None   \n",
       "1                                  None                               None   \n",
       "2                                  None                               None   \n",
       "3                                  None       George REBOUND (Off:0 Def:1)   \n",
       "4                                  None  Beverley 1' Driving Layup (2 PTS)   \n",
       "..                                  ...                                ...   \n",
       "494                                None           SUB: Patterson FOR Batum   \n",
       "495                                None     MISS Mann 17' Pullup Jump Shot   \n",
       "496                                None                               None   \n",
       "497                                None                               None   \n",
       "498    End of 4th Period (12:36 AM EST)                               None   \n",
       "\n",
       "         SCORE SCOREMARGIN  \n",
       "0         None        None  \n",
       "1         None        None  \n",
       "2         None        None  \n",
       "3         None        None  \n",
       "4        2 - 0          -2  \n",
       "..         ...         ...  \n",
       "494       None        None  \n",
       "495       None        None  \n",
       "496       None        None  \n",
       "497  116 - 109          -7  \n",
       "498  116 - 109          -7  \n",
       "\n",
       "[499 rows x 12 columns]"
      ],
      "text/html": "<div>\n<style scoped>\n    .dataframe tbody tr th:only-of-type {\n        vertical-align: middle;\n    }\n\n    .dataframe tbody tr th {\n        vertical-align: top;\n    }\n\n    .dataframe thead th {\n        text-align: right;\n    }\n</style>\n<table border=\"1\" class=\"dataframe\">\n  <thead>\n    <tr style=\"text-align: right;\">\n      <th></th>\n      <th>GAME_ID</th>\n      <th>EVENTNUM</th>\n      <th>EVENTMSGTYPE</th>\n      <th>EVENTMSGACTIONTYPE</th>\n      <th>PERIOD</th>\n      <th>WCTIMESTRING</th>\n      <th>PCTIMESTRING</th>\n      <th>HOMEDESCRIPTION</th>\n      <th>NEUTRALDESCRIPTION</th>\n      <th>VISITORDESCRIPTION</th>\n      <th>SCORE</th>\n      <th>SCOREMARGIN</th>\n    </tr>\n  </thead>\n  <tbody>\n    <tr>\n      <th>0</th>\n      <td>0022000002</td>\n      <td>2</td>\n      <td>12</td>\n      <td>0</td>\n      <td>1</td>\n      <td>10:08 PM</td>\n      <td>12:00</td>\n      <td>None</td>\n      <td>Start of 1st Period (10:08 PM EST)</td>\n      <td>None</td>\n      <td>None</td>\n      <td>None</td>\n    </tr>\n    <tr>\n      <th>1</th>\n      <td>0022000002</td>\n      <td>4</td>\n      <td>10</td>\n      <td>0</td>\n      <td>1</td>\n      <td>10:08 PM</td>\n      <td>12:00</td>\n      <td>Jump Ball Davis vs. Ibaka: Tip to James</td>\n      <td>None</td>\n      <td>None</td>\n      <td>None</td>\n      <td>None</td>\n    </tr>\n    <tr>\n      <th>2</th>\n      <td>0022000002</td>\n      <td>7</td>\n      <td>2</td>\n      <td>80</td>\n      <td>1</td>\n      <td>10:08 PM</td>\n      <td>11:40</td>\n      <td>MISS Davis 15' Step Back Jump Shot</td>\n      <td>None</td>\n      <td>None</td>\n      <td>None</td>\n      <td>None</td>\n    </tr>\n    <tr>\n      <th>3</th>\n      <td>0022000002</td>\n      <td>8</td>\n      <td>4</td>\n      <td>0</td>\n      <td>1</td>\n      <td>10:08 PM</td>\n      <td>11:37</td>\n      <td>None</td>\n      <td>None</td>\n      <td>George REBOUND (Off:0 Def:1)</td>\n      <td>None</td>\n      <td>None</td>\n    </tr>\n    <tr>\n      <th>4</th>\n      <td>0022000002</td>\n      <td>9</td>\n      <td>1</td>\n      <td>6</td>\n      <td>1</td>\n      <td>10:09 PM</td>\n      <td>11:28</td>\n      <td>None</td>\n      <td>None</td>\n      <td>Beverley 1' Driving Layup (2 PTS)</td>\n      <td>2 - 0</td>\n      <td>-2</td>\n    </tr>\n    <tr>\n      <th>...</th>\n      <td>...</td>\n      <td>...</td>\n      <td>...</td>\n      <td>...</td>\n      <td>...</td>\n      <td>...</td>\n      <td>...</td>\n      <td>...</td>\n      <td>...</td>\n      <td>...</td>\n      <td>...</td>\n      <td>...</td>\n    </tr>\n    <tr>\n      <th>494</th>\n      <td>0022000002</td>\n      <td>711</td>\n      <td>8</td>\n      <td>0</td>\n      <td>4</td>\n      <td>12:34 AM</td>\n      <td>0:56</td>\n      <td>None</td>\n      <td>None</td>\n      <td>SUB: Patterson FOR Batum</td>\n      <td>None</td>\n      <td>None</td>\n    </tr>\n    <tr>\n      <th>495</th>\n      <td>0022000002</td>\n      <td>716</td>\n      <td>2</td>\n      <td>79</td>\n      <td>4</td>\n      <td>12:35 AM</td>\n      <td>0:35</td>\n      <td>None</td>\n      <td>None</td>\n      <td>MISS Mann 17' Pullup Jump Shot</td>\n      <td>None</td>\n      <td>None</td>\n    </tr>\n    <tr>\n      <th>496</th>\n      <td>0022000002</td>\n      <td>717</td>\n      <td>4</td>\n      <td>0</td>\n      <td>4</td>\n      <td>12:35 AM</td>\n      <td>0:35</td>\n      <td>Horton-Tucker REBOUND (Off:0 Def:1)</td>\n      <td>None</td>\n      <td>None</td>\n      <td>None</td>\n      <td>None</td>\n    </tr>\n    <tr>\n      <th>497</th>\n      <td>0022000002</td>\n      <td>718</td>\n      <td>1</td>\n      <td>1</td>\n      <td>4</td>\n      <td>12:36 AM</td>\n      <td>0:19</td>\n      <td>Kuzma 17' Jump Shot (15 PTS) (Harrell 3 AST)</td>\n      <td>None</td>\n      <td>None</td>\n      <td>116 - 109</td>\n      <td>-7</td>\n    </tr>\n    <tr>\n      <th>498</th>\n      <td>0022000002</td>\n      <td>720</td>\n      <td>13</td>\n      <td>0</td>\n      <td>4</td>\n      <td>12:36 AM</td>\n      <td>0:00</td>\n      <td>None</td>\n      <td>End of 4th Period (12:36 AM EST)</td>\n      <td>None</td>\n      <td>116 - 109</td>\n      <td>-7</td>\n    </tr>\n  </tbody>\n</table>\n<p>499 rows × 12 columns</p>\n</div>"
     },
     "metadata": {},
     "execution_count": 40
    }
   ],
   "source": [
    "play_by_play"
   ]
  },
  {
   "source": [
    "What if we took injury dates, matched them to game, looked at play by play?"
   ],
   "cell_type": "markdown",
   "metadata": {}
  },
  {
   "cell_type": "code",
   "execution_count": 41,
   "metadata": {},
   "outputs": [],
   "source": [
    "injuries = pd.read_csv('data/injuries.csv')"
   ]
  },
  {
   "cell_type": "code",
   "execution_count": 42,
   "metadata": {},
   "outputs": [
    {
     "output_type": "execute_result",
     "data": {
      "text/plain": [
       "            Date       Team                                 Player  \\\n",
       "0     2012-10-30      Bulls                           Derrick Rose   \n",
       "1     2012-10-30    Celtics                          Darko Milicic   \n",
       "2     2012-10-30   Clippers                             Grant Hill   \n",
       "3     2012-10-30     Knicks   Amare Stoudemire / Amar'e Stoudemire   \n",
       "4     2012-10-30     Knicks                          Iman Shumpert   \n",
       "...          ...        ...                                    ...   \n",
       "7035  2020-08-10   Pelicans                         Brandon Ingram   \n",
       "7036  2020-08-11      76ers                             Al Horford   \n",
       "7037  2020-08-11      76ers                          Tobias Harris   \n",
       "7038  2020-08-11      Magic               Mohamed Bamba / Mo Bamba   \n",
       "7039  2020-08-12      76ers                     Glenn Robinson III   \n",
       "\n",
       "                                                 Injury  \n",
       "0      recovering from surgery on left knee to repai...  \n",
       "1                                     back spasms (DTD)  \n",
       "2                       bone bruise in right knee (DTD)  \n",
       "3      arthroscopic surgery on left knee (out indefi...  \n",
       "4      recovering from surgery on left knee to repai...  \n",
       "...                                                 ...  \n",
       "7035                   sore right knee (out for season)  \n",
       "7036                               sore left knee (DTD)  \n",
       "7037                             sore right ankle (DTD)  \n",
       "7038                            migraine headache (DTD)  \n",
       "7039                             left hip pointer (DTD)  \n",
       "\n",
       "[7040 rows x 4 columns]"
      ],
      "text/html": "<div>\n<style scoped>\n    .dataframe tbody tr th:only-of-type {\n        vertical-align: middle;\n    }\n\n    .dataframe tbody tr th {\n        vertical-align: top;\n    }\n\n    .dataframe thead th {\n        text-align: right;\n    }\n</style>\n<table border=\"1\" class=\"dataframe\">\n  <thead>\n    <tr style=\"text-align: right;\">\n      <th></th>\n      <th>Date</th>\n      <th>Team</th>\n      <th>Player</th>\n      <th>Injury</th>\n    </tr>\n  </thead>\n  <tbody>\n    <tr>\n      <th>0</th>\n      <td>2012-10-30</td>\n      <td>Bulls</td>\n      <td>Derrick Rose</td>\n      <td>recovering from surgery on left knee to repai...</td>\n    </tr>\n    <tr>\n      <th>1</th>\n      <td>2012-10-30</td>\n      <td>Celtics</td>\n      <td>Darko Milicic</td>\n      <td>back spasms (DTD)</td>\n    </tr>\n    <tr>\n      <th>2</th>\n      <td>2012-10-30</td>\n      <td>Clippers</td>\n      <td>Grant Hill</td>\n      <td>bone bruise in right knee (DTD)</td>\n    </tr>\n    <tr>\n      <th>3</th>\n      <td>2012-10-30</td>\n      <td>Knicks</td>\n      <td>Amare Stoudemire / Amar'e Stoudemire</td>\n      <td>arthroscopic surgery on left knee (out indefi...</td>\n    </tr>\n    <tr>\n      <th>4</th>\n      <td>2012-10-30</td>\n      <td>Knicks</td>\n      <td>Iman Shumpert</td>\n      <td>recovering from surgery on left knee to repai...</td>\n    </tr>\n    <tr>\n      <th>...</th>\n      <td>...</td>\n      <td>...</td>\n      <td>...</td>\n      <td>...</td>\n    </tr>\n    <tr>\n      <th>7035</th>\n      <td>2020-08-10</td>\n      <td>Pelicans</td>\n      <td>Brandon Ingram</td>\n      <td>sore right knee (out for season)</td>\n    </tr>\n    <tr>\n      <th>7036</th>\n      <td>2020-08-11</td>\n      <td>76ers</td>\n      <td>Al Horford</td>\n      <td>sore left knee (DTD)</td>\n    </tr>\n    <tr>\n      <th>7037</th>\n      <td>2020-08-11</td>\n      <td>76ers</td>\n      <td>Tobias Harris</td>\n      <td>sore right ankle (DTD)</td>\n    </tr>\n    <tr>\n      <th>7038</th>\n      <td>2020-08-11</td>\n      <td>Magic</td>\n      <td>Mohamed Bamba / Mo Bamba</td>\n      <td>migraine headache (DTD)</td>\n    </tr>\n    <tr>\n      <th>7039</th>\n      <td>2020-08-12</td>\n      <td>76ers</td>\n      <td>Glenn Robinson III</td>\n      <td>left hip pointer (DTD)</td>\n    </tr>\n  </tbody>\n</table>\n<p>7040 rows × 4 columns</p>\n</div>"
     },
     "metadata": {},
     "execution_count": 42
    }
   ],
   "source": [
    "injuries"
   ]
  },
  {
   "cell_type": "code",
   "execution_count": 60,
   "metadata": {},
   "outputs": [],
   "source": [
    "steph_games = endpoints.PlayerGameLog(player_id=201939).get_data_frames()[0]\n",
    "steph_injuries = injuries[injuries['Player'] == ' Stephen Curry']"
   ]
  },
  {
   "cell_type": "code",
   "execution_count": 61,
   "metadata": {},
   "outputs": [
    {
     "output_type": "execute_result",
     "data": {
      "text/plain": [
       "   SEASON_ID  Player_ID     Game_ID     GAME_DATE      MATCHUP WL  MIN  FGM  \\\n",
       "0      22020     201939  0022001070  MAY 16, 2021  GSW vs. MEM  W   40   16   \n",
       "1      22020     201939  0022001039  MAY 11, 2021  GSW vs. PHX  W   37    7   \n",
       "2      22020     201939  0022001030  MAY 10, 2021  GSW vs. UTA  W   37   11   \n",
       "3      22020     201939  0022001017  MAY 08, 2021  GSW vs. OKC  W   29   14   \n",
       "4      22020     201939  0022001001  MAY 06, 2021  GSW vs. OKC  W   31   11   \n",
       "..       ...        ...         ...           ...          ... ..  ...  ...   \n",
       "58     22020     201939  0022000078  JAN 01, 2021  GSW vs. POR  L   34    9   \n",
       "59     22020     201939  0022000047  DEC 29, 2020    GSW @ DET  W   35    9   \n",
       "60     22020     201939  0022000038  DEC 27, 2020    GSW @ CHI  W   36   11   \n",
       "61     22020     201939  0022000006  DEC 25, 2020    GSW @ MIL  L   29    6   \n",
       "62     22020     201939  0022000001  DEC 22, 2020    GSW @ BKN  L   30    7   \n",
       "\n",
       "    FGA  FG_PCT  ...  DREB  REB  AST  STL  BLK  TOV  PF  PTS  PLUS_MINUS  \\\n",
       "0    36   0.444  ...     6    7    9    1    1    7   2   46          14   \n",
       "1    22   0.318  ...     3    3    6    1    0    3   2   21           6   \n",
       "2    25   0.440  ...     3    4    6    2    0    3   1   36           4   \n",
       "3    26   0.538  ...     5    5    2    1    0    1   2   49          31   \n",
       "4    21   0.524  ...     4    4    7    1    0    3   2   34          24   \n",
       "..  ...     ...  ...   ...  ...  ...  ...  ...  ...  ..  ...         ...   \n",
       "58   20   0.450  ...     8    8    5    0    0    1   1   26         -27   \n",
       "59   17   0.529  ...     5    5    6    2    0    8   5   31           3   \n",
       "60   25   0.440  ...     2    2    6    2    2    4   1   36           3   \n",
       "61   17   0.353  ...     4    4    6    1    0    2   2   19         -24   \n",
       "62   21   0.333  ...     1    4   10    2    0    3   1   20         -23   \n",
       "\n",
       "    VIDEO_AVAILABLE  \n",
       "0                 1  \n",
       "1                 1  \n",
       "2                 1  \n",
       "3                 1  \n",
       "4                 1  \n",
       "..              ...  \n",
       "58                1  \n",
       "59                1  \n",
       "60                1  \n",
       "61                1  \n",
       "62                1  \n",
       "\n",
       "[63 rows x 27 columns]"
      ],
      "text/html": "<div>\n<style scoped>\n    .dataframe tbody tr th:only-of-type {\n        vertical-align: middle;\n    }\n\n    .dataframe tbody tr th {\n        vertical-align: top;\n    }\n\n    .dataframe thead th {\n        text-align: right;\n    }\n</style>\n<table border=\"1\" class=\"dataframe\">\n  <thead>\n    <tr style=\"text-align: right;\">\n      <th></th>\n      <th>SEASON_ID</th>\n      <th>Player_ID</th>\n      <th>Game_ID</th>\n      <th>GAME_DATE</th>\n      <th>MATCHUP</th>\n      <th>WL</th>\n      <th>MIN</th>\n      <th>FGM</th>\n      <th>FGA</th>\n      <th>FG_PCT</th>\n      <th>...</th>\n      <th>DREB</th>\n      <th>REB</th>\n      <th>AST</th>\n      <th>STL</th>\n      <th>BLK</th>\n      <th>TOV</th>\n      <th>PF</th>\n      <th>PTS</th>\n      <th>PLUS_MINUS</th>\n      <th>VIDEO_AVAILABLE</th>\n    </tr>\n  </thead>\n  <tbody>\n    <tr>\n      <th>0</th>\n      <td>22020</td>\n      <td>201939</td>\n      <td>0022001070</td>\n      <td>MAY 16, 2021</td>\n      <td>GSW vs. MEM</td>\n      <td>W</td>\n      <td>40</td>\n      <td>16</td>\n      <td>36</td>\n      <td>0.444</td>\n      <td>...</td>\n      <td>6</td>\n      <td>7</td>\n      <td>9</td>\n      <td>1</td>\n      <td>1</td>\n      <td>7</td>\n      <td>2</td>\n      <td>46</td>\n      <td>14</td>\n      <td>1</td>\n    </tr>\n    <tr>\n      <th>1</th>\n      <td>22020</td>\n      <td>201939</td>\n      <td>0022001039</td>\n      <td>MAY 11, 2021</td>\n      <td>GSW vs. PHX</td>\n      <td>W</td>\n      <td>37</td>\n      <td>7</td>\n      <td>22</td>\n      <td>0.318</td>\n      <td>...</td>\n      <td>3</td>\n      <td>3</td>\n      <td>6</td>\n      <td>1</td>\n      <td>0</td>\n      <td>3</td>\n      <td>2</td>\n      <td>21</td>\n      <td>6</td>\n      <td>1</td>\n    </tr>\n    <tr>\n      <th>2</th>\n      <td>22020</td>\n      <td>201939</td>\n      <td>0022001030</td>\n      <td>MAY 10, 2021</td>\n      <td>GSW vs. UTA</td>\n      <td>W</td>\n      <td>37</td>\n      <td>11</td>\n      <td>25</td>\n      <td>0.440</td>\n      <td>...</td>\n      <td>3</td>\n      <td>4</td>\n      <td>6</td>\n      <td>2</td>\n      <td>0</td>\n      <td>3</td>\n      <td>1</td>\n      <td>36</td>\n      <td>4</td>\n      <td>1</td>\n    </tr>\n    <tr>\n      <th>3</th>\n      <td>22020</td>\n      <td>201939</td>\n      <td>0022001017</td>\n      <td>MAY 08, 2021</td>\n      <td>GSW vs. OKC</td>\n      <td>W</td>\n      <td>29</td>\n      <td>14</td>\n      <td>26</td>\n      <td>0.538</td>\n      <td>...</td>\n      <td>5</td>\n      <td>5</td>\n      <td>2</td>\n      <td>1</td>\n      <td>0</td>\n      <td>1</td>\n      <td>2</td>\n      <td>49</td>\n      <td>31</td>\n      <td>1</td>\n    </tr>\n    <tr>\n      <th>4</th>\n      <td>22020</td>\n      <td>201939</td>\n      <td>0022001001</td>\n      <td>MAY 06, 2021</td>\n      <td>GSW vs. OKC</td>\n      <td>W</td>\n      <td>31</td>\n      <td>11</td>\n      <td>21</td>\n      <td>0.524</td>\n      <td>...</td>\n      <td>4</td>\n      <td>4</td>\n      <td>7</td>\n      <td>1</td>\n      <td>0</td>\n      <td>3</td>\n      <td>2</td>\n      <td>34</td>\n      <td>24</td>\n      <td>1</td>\n    </tr>\n    <tr>\n      <th>...</th>\n      <td>...</td>\n      <td>...</td>\n      <td>...</td>\n      <td>...</td>\n      <td>...</td>\n      <td>...</td>\n      <td>...</td>\n      <td>...</td>\n      <td>...</td>\n      <td>...</td>\n      <td>...</td>\n      <td>...</td>\n      <td>...</td>\n      <td>...</td>\n      <td>...</td>\n      <td>...</td>\n      <td>...</td>\n      <td>...</td>\n      <td>...</td>\n      <td>...</td>\n      <td>...</td>\n    </tr>\n    <tr>\n      <th>58</th>\n      <td>22020</td>\n      <td>201939</td>\n      <td>0022000078</td>\n      <td>JAN 01, 2021</td>\n      <td>GSW vs. POR</td>\n      <td>L</td>\n      <td>34</td>\n      <td>9</td>\n      <td>20</td>\n      <td>0.450</td>\n      <td>...</td>\n      <td>8</td>\n      <td>8</td>\n      <td>5</td>\n      <td>0</td>\n      <td>0</td>\n      <td>1</td>\n      <td>1</td>\n      <td>26</td>\n      <td>-27</td>\n      <td>1</td>\n    </tr>\n    <tr>\n      <th>59</th>\n      <td>22020</td>\n      <td>201939</td>\n      <td>0022000047</td>\n      <td>DEC 29, 2020</td>\n      <td>GSW @ DET</td>\n      <td>W</td>\n      <td>35</td>\n      <td>9</td>\n      <td>17</td>\n      <td>0.529</td>\n      <td>...</td>\n      <td>5</td>\n      <td>5</td>\n      <td>6</td>\n      <td>2</td>\n      <td>0</td>\n      <td>8</td>\n      <td>5</td>\n      <td>31</td>\n      <td>3</td>\n      <td>1</td>\n    </tr>\n    <tr>\n      <th>60</th>\n      <td>22020</td>\n      <td>201939</td>\n      <td>0022000038</td>\n      <td>DEC 27, 2020</td>\n      <td>GSW @ CHI</td>\n      <td>W</td>\n      <td>36</td>\n      <td>11</td>\n      <td>25</td>\n      <td>0.440</td>\n      <td>...</td>\n      <td>2</td>\n      <td>2</td>\n      <td>6</td>\n      <td>2</td>\n      <td>2</td>\n      <td>4</td>\n      <td>1</td>\n      <td>36</td>\n      <td>3</td>\n      <td>1</td>\n    </tr>\n    <tr>\n      <th>61</th>\n      <td>22020</td>\n      <td>201939</td>\n      <td>0022000006</td>\n      <td>DEC 25, 2020</td>\n      <td>GSW @ MIL</td>\n      <td>L</td>\n      <td>29</td>\n      <td>6</td>\n      <td>17</td>\n      <td>0.353</td>\n      <td>...</td>\n      <td>4</td>\n      <td>4</td>\n      <td>6</td>\n      <td>1</td>\n      <td>0</td>\n      <td>2</td>\n      <td>2</td>\n      <td>19</td>\n      <td>-24</td>\n      <td>1</td>\n    </tr>\n    <tr>\n      <th>62</th>\n      <td>22020</td>\n      <td>201939</td>\n      <td>0022000001</td>\n      <td>DEC 22, 2020</td>\n      <td>GSW @ BKN</td>\n      <td>L</td>\n      <td>30</td>\n      <td>7</td>\n      <td>21</td>\n      <td>0.333</td>\n      <td>...</td>\n      <td>1</td>\n      <td>4</td>\n      <td>10</td>\n      <td>2</td>\n      <td>0</td>\n      <td>3</td>\n      <td>1</td>\n      <td>20</td>\n      <td>-23</td>\n      <td>1</td>\n    </tr>\n  </tbody>\n</table>\n<p>63 rows × 27 columns</p>\n</div>"
     },
     "metadata": {},
     "execution_count": 61
    }
   ],
   "source": [
    "steph_games"
   ]
  },
  {
   "cell_type": "code",
   "execution_count": 62,
   "metadata": {},
   "outputs": [
    {
     "output_type": "execute_result",
     "data": {
      "text/plain": [
       "            Date       Team          Player  \\\n",
       "466   2013-01-16   Warriors   Stephen Curry   \n",
       "535   2013-01-29   Warriors   Stephen Curry   \n",
       "1317  2013-11-08   Warriors   Stephen Curry   \n",
       "2962  2014-04-16   Warriors   Stephen Curry   \n",
       "3364  2015-02-22   Warriors   Stephen Curry   \n",
       "3446  2015-03-13   Warriors   Stephen Curry   \n",
       "3933  2015-12-30   Warriors   Stephen Curry   \n",
       "4186  2016-03-01   Warriors   Stephen Curry   \n",
       "4462  2016-04-16   Warriors   Stephen Curry   \n",
       "4473  2016-04-25   Warriors   Stephen Curry   \n",
       "5109  2017-03-11   Warriors   Stephen Curry   \n",
       "5247  2017-04-08   Warriors   Stephen Curry   \n",
       "5515  2017-12-05   Warriors   Stephen Curry   \n",
       "5646  2018-01-10   Warriors   Stephen Curry   \n",
       "5889  2018-03-24   Warriors   Stephen Curry   \n",
       "6087  2018-11-09   Warriors   Stephen Curry   \n",
       "6605  2019-10-31   Warriors   Stephen Curry   \n",
       "\n",
       "                                                 Injury  \n",
       "466                          sprained right ankle (DNP)  \n",
       "535                          sprained right ankle (DNP)  \n",
       "1317                  bruised/sprained left ankle (DNP)  \n",
       "2962                                         rest (DNP)  \n",
       "3364   sprained right ankle / sore right foot (P) (DTD)  \n",
       "3446                                         rest (DTD)  \n",
       "3933                       bruised lower left leg (DTD)  \n",
       "4186                            left ankle injury (DTD)  \n",
       "4462                         sprained right ankle (DTD)  \n",
       "4473                   sprained MCL in right knee (DTD)  \n",
       "5109                                         rest (DTD)  \n",
       "5247                            bruised left knee (DTD)  \n",
       "5515                         sprained right ankle (DTD)  \n",
       "5646                         sprained right ankle (DTD)  \n",
       "5889       sprained MCL in left knee (out indefinitely)  \n",
       "6087             strained left groin (out indefinitely)  \n",
       "6605             fractured left hand (out indefinitely)  "
      ],
      "text/html": "<div>\n<style scoped>\n    .dataframe tbody tr th:only-of-type {\n        vertical-align: middle;\n    }\n\n    .dataframe tbody tr th {\n        vertical-align: top;\n    }\n\n    .dataframe thead th {\n        text-align: right;\n    }\n</style>\n<table border=\"1\" class=\"dataframe\">\n  <thead>\n    <tr style=\"text-align: right;\">\n      <th></th>\n      <th>Date</th>\n      <th>Team</th>\n      <th>Player</th>\n      <th>Injury</th>\n    </tr>\n  </thead>\n  <tbody>\n    <tr>\n      <th>466</th>\n      <td>2013-01-16</td>\n      <td>Warriors</td>\n      <td>Stephen Curry</td>\n      <td>sprained right ankle (DNP)</td>\n    </tr>\n    <tr>\n      <th>535</th>\n      <td>2013-01-29</td>\n      <td>Warriors</td>\n      <td>Stephen Curry</td>\n      <td>sprained right ankle (DNP)</td>\n    </tr>\n    <tr>\n      <th>1317</th>\n      <td>2013-11-08</td>\n      <td>Warriors</td>\n      <td>Stephen Curry</td>\n      <td>bruised/sprained left ankle (DNP)</td>\n    </tr>\n    <tr>\n      <th>2962</th>\n      <td>2014-04-16</td>\n      <td>Warriors</td>\n      <td>Stephen Curry</td>\n      <td>rest (DNP)</td>\n    </tr>\n    <tr>\n      <th>3364</th>\n      <td>2015-02-22</td>\n      <td>Warriors</td>\n      <td>Stephen Curry</td>\n      <td>sprained right ankle / sore right foot (P) (DTD)</td>\n    </tr>\n    <tr>\n      <th>3446</th>\n      <td>2015-03-13</td>\n      <td>Warriors</td>\n      <td>Stephen Curry</td>\n      <td>rest (DTD)</td>\n    </tr>\n    <tr>\n      <th>3933</th>\n      <td>2015-12-30</td>\n      <td>Warriors</td>\n      <td>Stephen Curry</td>\n      <td>bruised lower left leg (DTD)</td>\n    </tr>\n    <tr>\n      <th>4186</th>\n      <td>2016-03-01</td>\n      <td>Warriors</td>\n      <td>Stephen Curry</td>\n      <td>left ankle injury (DTD)</td>\n    </tr>\n    <tr>\n      <th>4462</th>\n      <td>2016-04-16</td>\n      <td>Warriors</td>\n      <td>Stephen Curry</td>\n      <td>sprained right ankle (DTD)</td>\n    </tr>\n    <tr>\n      <th>4473</th>\n      <td>2016-04-25</td>\n      <td>Warriors</td>\n      <td>Stephen Curry</td>\n      <td>sprained MCL in right knee (DTD)</td>\n    </tr>\n    <tr>\n      <th>5109</th>\n      <td>2017-03-11</td>\n      <td>Warriors</td>\n      <td>Stephen Curry</td>\n      <td>rest (DTD)</td>\n    </tr>\n    <tr>\n      <th>5247</th>\n      <td>2017-04-08</td>\n      <td>Warriors</td>\n      <td>Stephen Curry</td>\n      <td>bruised left knee (DTD)</td>\n    </tr>\n    <tr>\n      <th>5515</th>\n      <td>2017-12-05</td>\n      <td>Warriors</td>\n      <td>Stephen Curry</td>\n      <td>sprained right ankle (DTD)</td>\n    </tr>\n    <tr>\n      <th>5646</th>\n      <td>2018-01-10</td>\n      <td>Warriors</td>\n      <td>Stephen Curry</td>\n      <td>sprained right ankle (DTD)</td>\n    </tr>\n    <tr>\n      <th>5889</th>\n      <td>2018-03-24</td>\n      <td>Warriors</td>\n      <td>Stephen Curry</td>\n      <td>sprained MCL in left knee (out indefinitely)</td>\n    </tr>\n    <tr>\n      <th>6087</th>\n      <td>2018-11-09</td>\n      <td>Warriors</td>\n      <td>Stephen Curry</td>\n      <td>strained left groin (out indefinitely)</td>\n    </tr>\n    <tr>\n      <th>6605</th>\n      <td>2019-10-31</td>\n      <td>Warriors</td>\n      <td>Stephen Curry</td>\n      <td>fractured left hand (out indefinitely)</td>\n    </tr>\n  </tbody>\n</table>\n</div>"
     },
     "metadata": {},
     "execution_count": 62
    }
   ],
   "source": [
    "steph_injuries"
   ]
  },
  {
   "cell_type": "code",
   "execution_count": 78,
   "metadata": {
    "tags": []
   },
   "outputs": [],
   "source": [
    "injuries['Player'] = injuries['Player'].apply(str.strip)\n",
    "injuries['Team'] = injuries['Team'] .apply(str.strip)\n",
    "injuries['Injury'] = injuries['Injury'] .apply(str.strip)"
   ]
  },
  {
   "cell_type": "code",
   "execution_count": 80,
   "metadata": {},
   "outputs": [
    {
     "output_type": "execute_result",
     "data": {
      "text/plain": [
       "'recovering from surgery on left knee to repair torn ACL (out indefinitely)'"
      ]
     },
     "metadata": {},
     "execution_count": 80
    }
   ],
   "source": [
    "injuries['Injury'][0]"
   ]
  },
  {
   "cell_type": "code",
   "execution_count": 81,
   "metadata": {},
   "outputs": [],
   "source": [
    "injuries.to_csv('data/injuries.csv', index_label=False)"
   ]
  },
  {
   "cell_type": "code",
   "execution_count": null,
   "metadata": {},
   "outputs": [],
   "source": []
  }
 ]
}