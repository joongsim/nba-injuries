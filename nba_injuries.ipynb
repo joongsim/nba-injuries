{
 "metadata": {
  "language_info": {
   "codemirror_mode": {
    "name": "ipython",
    "version": 3
   },
   "file_extension": ".py",
   "mimetype": "text/x-python",
   "name": "python",
   "nbconvert_exporter": "python",
   "pygments_lexer": "ipython3",
   "version": "3.8.5-final"
  },
  "orig_nbformat": 2,
  "kernelspec": {
   "name": "python3",
   "display_name": "Python 3",
   "language": "python"
  }
 },
 "nbformat": 4,
 "nbformat_minor": 2,
 "cells": [
  {
   "source": [
    "# NBA Injuries\n",
    "***\n",
    "## Goal: \n",
    "Build model to predict the probability of a player missing a game due to injury within a particular time frame\n",
    "\n",
    "## Approach:\n",
    "\n",
    "### Part I: Data Preparation\n",
    "Tasks:\n",
    "\n",
    "1. Scrape injury history data from Pro Sports Transactions using Beautiful Soup\n",
    "2. Scrape player statistics and information from NBA Stats using Beautiful Soup and Selenium and/or nba-api\n",
    "3. Clean datasets\n",
    "4. Merge the two datasets\n",
    "\n",
    "\n",
    "***"
   ],
   "cell_type": "markdown",
   "metadata": {}
  },
  {
   "source": [
    "## Part I: Data Preparation\n",
    "### Task 1: Scrape injury data from http://www.prosportstransactions.com"
   ],
   "cell_type": "markdown",
   "metadata": {}
  },
  {
   "cell_type": "code",
   "execution_count": 4,
   "metadata": {},
   "outputs": [],
   "source": [
    "import numpy as np\n",
    "import pandas as pd"
   ]
  },
  {
   "cell_type": "code",
   "execution_count": 2,
   "metadata": {},
   "outputs": [],
   "source": [
    "# Scrapes injury data from http://www.prosportstransactions.com\n",
    "# Collects all missed games due to  injury from Oct 10, 2012 to Aug 12, 2020\n",
    "\n",
    "import requests\n",
    "from bs4 import BeautifulSoup\n",
    "\n",
    "\n",
    "def clear_bullet(s):\n",
    "    return s.replace('• ', '')\n",
    "\n",
    "\n",
    "nba_injuries = pd.DataFrame(columns=['Date', 'Team', 'Player', 'Injury'])\n",
    "\n",
    "# Scrape injury data from site\n",
    "for page in range(366):\n",
    "    URL = 'http://www.prosportstransactions.com/basketball/Search/SearchResults.php?Player=&Team=&BeginDate=2012-10-30&EndDate=2020-08-12&InjuriesChkBx=yes&Submit=Search&start=' + str(25 * page)\n",
    "    page = requests.get(URL)\n",
    "    soup = BeautifulSoup(page.content, 'html.parser')\n",
    "    \n",
    "    results = soup.find_all('tr', align='left')\n",
    "    \n",
    "    for result in results:\n",
    "        entry = result.text.strip().split('\\n')\n",
    "        nba_injuries = nba_injuries.append({'Date': entry[0], 'Team': entry[1], 'Player': entry[3], 'Injury': entry[4]}, ignore_index=True)\n",
    "        \n",
    "        \n",
    "# Data cleaning\n",
    "# Remove all entries without player name (i.e. returned to lineup)        \n",
    "\n",
    "nba_injuries = nba_injuries[nba_injuries.Player != ' ']\n",
    "nba_injuries['Player'] = nba_injuries['Player'].apply(clear_bullet)\n",
    "\n",
    "\n",
    "# Save as csv\n",
    "nba_injuries.to_csv('injuries.csv', index=False)"
   ]
  },
  {
   "source": [
    "### Task 2: Get player stats from NBA.com using NBA-API"
   ],
   "cell_type": "markdown",
   "metadata": {}
  },
  {
   "cell_type": "code",
   "execution_count": 1,
   "metadata": {},
   "outputs": [],
   "source": [
    "import nba_api.stats.static.players as players\n",
    "from nba_api.stats import endpoints"
   ]
  },
  {
   "cell_type": "code",
   "execution_count": 3,
   "metadata": {},
   "outputs": [
    {
     "output_type": "execute_result",
     "data": {
      "text/plain": [
       "   PLAYER_ID      PLAYER_NAME     TEAM_ID TEAM_ABBREVIATION   AGE  \\\n",
       "0     203932     Aaron Gordon  1610612753               ORL  23.0   \n",
       "1    1628988    Aaron Holiday  1610612754               IND  22.0   \n",
       "2    1627846      Abdel Nader  1610612760               OKC  25.0   \n",
       "3     201143       Al Horford  1610612738               BOS  33.0   \n",
       "4     202329  Al-Farouq Aminu  1610612757               POR  28.0   \n",
       "\n",
       "  PLAYER_HEIGHT  PLAYER_HEIGHT_INCHES PLAYER_WEIGHT      COLLEGE  \\\n",
       "0           6-9                    81           220      Arizona   \n",
       "1           6-1                    73           185         UCLA   \n",
       "2           6-6                    78           225   Iowa State   \n",
       "3          6-10                    82           245      Florida   \n",
       "4           6-9                    81           220  Wake Forest   \n",
       "\n",
       "              COUNTRY  ...  GP   PTS  REB  AST  NET_RATING  OREB_PCT  \\\n",
       "0                 USA  ...  78  1246  574  289         1.5     0.047   \n",
       "1                 USA  ...  50   294   67   87         7.0     0.008   \n",
       "2               Egypt  ...  61   241  116   20        -9.5     0.017   \n",
       "3  Dominican Republic  ...  68   925  458  283         6.1     0.062   \n",
       "4                 USA  ...  81   760  610  104         8.2     0.048   \n",
       "\n",
       "   DREB_PCT  USG_PCT  TS_PCT  AST_PCT  \n",
       "0     0.165    0.213   0.538    0.166  \n",
       "1     0.088    0.206   0.518    0.180  \n",
       "2     0.139    0.148   0.522    0.044  \n",
       "3     0.161    0.188   0.605    0.203  \n",
       "4     0.204    0.134   0.568    0.057  \n",
       "\n",
       "[5 rows x 23 columns]"
      ],
      "text/html": "<div>\n<style scoped>\n    .dataframe tbody tr th:only-of-type {\n        vertical-align: middle;\n    }\n\n    .dataframe tbody tr th {\n        vertical-align: top;\n    }\n\n    .dataframe thead th {\n        text-align: right;\n    }\n</style>\n<table border=\"1\" class=\"dataframe\">\n  <thead>\n    <tr style=\"text-align: right;\">\n      <th></th>\n      <th>PLAYER_ID</th>\n      <th>PLAYER_NAME</th>\n      <th>TEAM_ID</th>\n      <th>TEAM_ABBREVIATION</th>\n      <th>AGE</th>\n      <th>PLAYER_HEIGHT</th>\n      <th>PLAYER_HEIGHT_INCHES</th>\n      <th>PLAYER_WEIGHT</th>\n      <th>COLLEGE</th>\n      <th>COUNTRY</th>\n      <th>...</th>\n      <th>GP</th>\n      <th>PTS</th>\n      <th>REB</th>\n      <th>AST</th>\n      <th>NET_RATING</th>\n      <th>OREB_PCT</th>\n      <th>DREB_PCT</th>\n      <th>USG_PCT</th>\n      <th>TS_PCT</th>\n      <th>AST_PCT</th>\n    </tr>\n  </thead>\n  <tbody>\n    <tr>\n      <th>0</th>\n      <td>203932</td>\n      <td>Aaron Gordon</td>\n      <td>1610612753</td>\n      <td>ORL</td>\n      <td>23.0</td>\n      <td>6-9</td>\n      <td>81</td>\n      <td>220</td>\n      <td>Arizona</td>\n      <td>USA</td>\n      <td>...</td>\n      <td>78</td>\n      <td>1246</td>\n      <td>574</td>\n      <td>289</td>\n      <td>1.5</td>\n      <td>0.047</td>\n      <td>0.165</td>\n      <td>0.213</td>\n      <td>0.538</td>\n      <td>0.166</td>\n    </tr>\n    <tr>\n      <th>1</th>\n      <td>1628988</td>\n      <td>Aaron Holiday</td>\n      <td>1610612754</td>\n      <td>IND</td>\n      <td>22.0</td>\n      <td>6-1</td>\n      <td>73</td>\n      <td>185</td>\n      <td>UCLA</td>\n      <td>USA</td>\n      <td>...</td>\n      <td>50</td>\n      <td>294</td>\n      <td>67</td>\n      <td>87</td>\n      <td>7.0</td>\n      <td>0.008</td>\n      <td>0.088</td>\n      <td>0.206</td>\n      <td>0.518</td>\n      <td>0.180</td>\n    </tr>\n    <tr>\n      <th>2</th>\n      <td>1627846</td>\n      <td>Abdel Nader</td>\n      <td>1610612760</td>\n      <td>OKC</td>\n      <td>25.0</td>\n      <td>6-6</td>\n      <td>78</td>\n      <td>225</td>\n      <td>Iowa State</td>\n      <td>Egypt</td>\n      <td>...</td>\n      <td>61</td>\n      <td>241</td>\n      <td>116</td>\n      <td>20</td>\n      <td>-9.5</td>\n      <td>0.017</td>\n      <td>0.139</td>\n      <td>0.148</td>\n      <td>0.522</td>\n      <td>0.044</td>\n    </tr>\n    <tr>\n      <th>3</th>\n      <td>201143</td>\n      <td>Al Horford</td>\n      <td>1610612738</td>\n      <td>BOS</td>\n      <td>33.0</td>\n      <td>6-10</td>\n      <td>82</td>\n      <td>245</td>\n      <td>Florida</td>\n      <td>Dominican Republic</td>\n      <td>...</td>\n      <td>68</td>\n      <td>925</td>\n      <td>458</td>\n      <td>283</td>\n      <td>6.1</td>\n      <td>0.062</td>\n      <td>0.161</td>\n      <td>0.188</td>\n      <td>0.605</td>\n      <td>0.203</td>\n    </tr>\n    <tr>\n      <th>4</th>\n      <td>202329</td>\n      <td>Al-Farouq Aminu</td>\n      <td>1610612757</td>\n      <td>POR</td>\n      <td>28.0</td>\n      <td>6-9</td>\n      <td>81</td>\n      <td>220</td>\n      <td>Wake Forest</td>\n      <td>USA</td>\n      <td>...</td>\n      <td>81</td>\n      <td>760</td>\n      <td>610</td>\n      <td>104</td>\n      <td>8.2</td>\n      <td>0.048</td>\n      <td>0.204</td>\n      <td>0.134</td>\n      <td>0.568</td>\n      <td>0.057</td>\n    </tr>\n  </tbody>\n</table>\n<p>5 rows × 23 columns</p>\n</div>"
     },
     "metadata": {},
     "execution_count": 3
    }
   ],
   "source": [
    "# Get player bios from 18-19 season\n",
    "bios1819 = endpoints.LeagueDashPlayerBioStats(season='2018-19').get_data_frames()[0]\n",
    "bios1819.head()"
   ]
  },
  {
   "cell_type": "code",
   "execution_count": null,
   "metadata": {},
   "outputs": [],
   "source": []
  }
 ]
}